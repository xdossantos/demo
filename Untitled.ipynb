{
 "cells": [
  {
   "cell_type": "code",
   "execution_count": null,
   "id": "8b296e3b-1771-4d89-92fd-b889fa4364a8",
   "metadata": {},
   "outputs": [],
   "source": [
    "import sys\n",
    "from PyQt5.QtWidgets import QDialog, QApplication\n",
    "from demoLineEdit import *\n",
    "class MyForm(QDialog):\n",
    "    def __init__(self):\n",
    "        super().__init__()\n",
    "        self.ui = Ui_Dialog()\n",
    "        self.ui.setupUi(self)\n",
    "        self.ui.ButtonClickMe.clicked.connect(self.dispmessage)\n",
    "        self.show()\n",
    "    def dispmessage(self):\n",
    "        self.ui.labelResponse.setText(\"Hello \" +self.ui.lineEditName.text())\n",
    "if __name__==\"__main__\":\n",
    "    app = QApplication(sys.argv)\n",
    "    w = MyForm()\n",
    "    w.show()\n",
    "    sys.exit(app.exec_())"
   ]
  }
 ],
 "metadata": {
  "kernelspec": {
   "display_name": "Python 3 (ipykernel)",
   "language": "python",
   "name": "python3"
  },
  "language_info": {
   "codemirror_mode": {
    "name": "ipython",
    "version": 3
   },
   "file_extension": ".py",
   "mimetype": "text/x-python",
   "name": "python",
   "nbconvert_exporter": "python",
   "pygments_lexer": "ipython3",
   "version": "3.12.4"
  }
 },
 "nbformat": 4,
 "nbformat_minor": 5
}
